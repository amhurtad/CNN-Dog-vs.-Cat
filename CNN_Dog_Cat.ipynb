{
 "cells": [
  {
   "cell_type": "markdown",
   "metadata": {
    "colab_type": "text",
    "id": "3DR-eO17geWu"
   },
   "source": [
    "# Convolutional Neural Network"
   ]
  },
  {
   "cell_type": "markdown",
   "metadata": {
    "colab_type": "text",
    "id": "EMefrVPCg-60"
   },
   "source": [
    "### Importing the libraries"
   ]
  },
  {
   "cell_type": "code",
   "execution_count": 1,
   "metadata": {
    "colab": {},
    "colab_type": "code",
    "id": "sCV30xyVhFbE"
   },
   "outputs": [],
   "source": [
    "import tensorflow as tf\n",
    "from keras.preprocessing.image import ImageDataGenerator"
   ]
  },
  {
   "cell_type": "code",
   "execution_count": 2,
   "metadata": {
    "colab": {},
    "colab_type": "code",
    "id": "FIleuCAjoFD8"
   },
   "outputs": [
    {
     "data": {
      "text/plain": [
       "'2.2.0'"
      ]
     },
     "execution_count": 2,
     "metadata": {},
     "output_type": "execute_result"
    }
   ],
   "source": [
    "tf.__version__"
   ]
  },
  {
   "cell_type": "markdown",
   "metadata": {
    "colab_type": "text",
    "id": "oxQxCBWyoGPE"
   },
   "source": [
    "## Part 1 - Data Preprocessing"
   ]
  },
  {
   "cell_type": "markdown",
   "metadata": {
    "colab_type": "text",
    "id": "MvE-heJNo3GG"
   },
   "source": [
    "### Preprocessing the Training set"
   ]
  },
  {
   "cell_type": "code",
   "execution_count": 3,
   "metadata": {
    "colab": {},
    "colab_type": "code",
    "id": "0koUcJMJpEBD"
   },
   "outputs": [
    {
     "name": "stdout",
     "output_type": "stream",
     "text": [
      "Found 8000 images belonging to 2 classes.\n"
     ]
    }
   ],
   "source": [
    "train_datagen = ImageDataGenerator(\n",
    "        rescale = 1/255,\n",
    "        shear_range = 0.2,\n",
    "        zoom_range = 0.2,\n",
    "        horizontal_flip=True)\n",
    "training_set = train_datagen.flow_from_directory(\n",
    "        'Desktop/Assignment/Deep Learning Course/CNN/dataset/training_set',\n",
    "        target_size = (64, 64),\n",
    "        batch_size = 32,\n",
    "        class_mode = 'binary')"
   ]
  },
  {
   "cell_type": "markdown",
   "metadata": {
    "colab_type": "text",
    "id": "mrCMmGw9pHys"
   },
   "source": [
    "### Preprocessing the Test set"
   ]
  },
  {
   "cell_type": "code",
   "execution_count": 4,
   "metadata": {
    "colab": {},
    "colab_type": "code",
    "id": "SH4WzfOhpKc3"
   },
   "outputs": [
    {
     "name": "stdout",
     "output_type": "stream",
     "text": [
      "Found 2000 images belonging to 2 classes.\n"
     ]
    }
   ],
   "source": [
    "test_datagen = ImageDataGenerator(rescale = 1/255)\n",
    "test_set = test_datagen.flow_from_directory(\n",
    "         'Desktop/Assignment/Deep Learning Course/CNN/dataset/test_set',\n",
    "         target_size = (64,64),\n",
    "         batch_size = 32,\n",
    "         class_mode = 'binary')"
   ]
  },
  {
   "cell_type": "markdown",
   "metadata": {
    "colab_type": "text",
    "id": "af8O4l90gk7B"
   },
   "source": [
    "## Part 2 - Building the CNN"
   ]
  },
  {
   "cell_type": "markdown",
   "metadata": {
    "colab_type": "text",
    "id": "ces1gXY2lmoX"
   },
   "source": [
    "### Initialising the CNN"
   ]
  },
  {
   "cell_type": "code",
   "execution_count": 5,
   "metadata": {
    "colab": {},
    "colab_type": "code",
    "id": "SAUt4UMPlhLS"
   },
   "outputs": [],
   "source": [
    "cnn = tf.keras.models.Sequential()"
   ]
  },
  {
   "cell_type": "markdown",
   "metadata": {
    "colab_type": "text",
    "id": "u5YJj_XMl5LF"
   },
   "source": [
    "### Step 1 - Convolution"
   ]
  },
  {
   "cell_type": "code",
   "execution_count": 6,
   "metadata": {
    "colab": {},
    "colab_type": "code",
    "id": "XPzPrMckl-hV"
   },
   "outputs": [],
   "source": [
    "cnn.add(tf.keras.layers.Conv2D(filters = 32, kernel_size = 3, activation = 'relu', input_shape = [64, 64, 3]))"
   ]
  },
  {
   "cell_type": "markdown",
   "metadata": {
    "colab_type": "text",
    "id": "tf87FpvxmNOJ"
   },
   "source": [
    "### Step 2 - Pooling"
   ]
  },
  {
   "cell_type": "code",
   "execution_count": 7,
   "metadata": {
    "colab": {},
    "colab_type": "code",
    "id": "ncpqPl69mOac"
   },
   "outputs": [],
   "source": [
    "cnn.add(tf.keras.layers.MaxPool2D(pool_size = 2, strides = 2))"
   ]
  },
  {
   "cell_type": "markdown",
   "metadata": {
    "colab_type": "text",
    "id": "xaTOgD8rm4mU"
   },
   "source": [
    "### Adding a second convolutional layer"
   ]
  },
  {
   "cell_type": "code",
   "execution_count": 8,
   "metadata": {
    "colab": {},
    "colab_type": "code",
    "id": "i_-FZjn_m8gk"
   },
   "outputs": [],
   "source": [
    "cnn.add(tf.keras.layers.Conv2D(filters = 32, kernel_size = 3, activation = 'relu'))\n",
    "cnn.add(tf.keras.layers.MaxPool2D(pool_size = 2, strides = 2))"
   ]
  },
  {
   "cell_type": "markdown",
   "metadata": {
    "colab_type": "text",
    "id": "tmiEuvTunKfk"
   },
   "source": [
    "### Step 3 - Flattening"
   ]
  },
  {
   "cell_type": "code",
   "execution_count": 9,
   "metadata": {
    "colab": {},
    "colab_type": "code",
    "id": "6AZeOGCvnNZn"
   },
   "outputs": [],
   "source": [
    "cnn.add(tf.keras.layers.Flatten())"
   ]
  },
  {
   "cell_type": "markdown",
   "metadata": {
    "colab_type": "text",
    "id": "dAoSECOm203v"
   },
   "source": [
    "### Step 4 - Full Connection"
   ]
  },
  {
   "cell_type": "code",
   "execution_count": 10,
   "metadata": {
    "colab": {},
    "colab_type": "code",
    "id": "8GtmUlLd26Nq"
   },
   "outputs": [],
   "source": [
    "cnn.add(tf.keras.layers.Dense(units = 128, activation = 'relu'))"
   ]
  },
  {
   "cell_type": "markdown",
   "metadata": {
    "colab_type": "text",
    "id": "yTldFvbX28Na"
   },
   "source": [
    "### Step 5 - Output Layer"
   ]
  },
  {
   "cell_type": "code",
   "execution_count": 11,
   "metadata": {
    "colab": {},
    "colab_type": "code",
    "id": "1p_Zj1Mc3Ko_"
   },
   "outputs": [],
   "source": [
    "cnn.add(tf.keras.layers.Dense(units = 1, activation ='sigmoid'))"
   ]
  },
  {
   "cell_type": "markdown",
   "metadata": {
    "colab_type": "text",
    "id": "D6XkI90snSDl"
   },
   "source": [
    "## Part 3 - Training the CNN"
   ]
  },
  {
   "cell_type": "markdown",
   "metadata": {
    "colab_type": "text",
    "id": "vfrFQACEnc6i"
   },
   "source": [
    "### Compiling the CNN"
   ]
  },
  {
   "cell_type": "code",
   "execution_count": 12,
   "metadata": {
    "colab": {},
    "colab_type": "code",
    "id": "NALksrNQpUlJ"
   },
   "outputs": [],
   "source": [
    "cnn.compile(optimizer = 'adam', loss = 'binary_crossentropy', metrics = ['accuracy'])"
   ]
  },
  {
   "cell_type": "markdown",
   "metadata": {
    "colab_type": "text",
    "id": "ehS-v3MIpX2h"
   },
   "source": [
    "### Training the CNN on the Training set and evaluating it on the Test set"
   ]
  },
  {
   "cell_type": "code",
   "execution_count": 13,
   "metadata": {
    "colab": {},
    "colab_type": "code",
    "id": "XUj1W4PJptta"
   },
   "outputs": [
    {
     "name": "stdout",
     "output_type": "stream",
     "text": [
      "Epoch 1/25\n",
      "250/250 [==============================] - 236s 945ms/step - loss: 0.6563 - accuracy: 0.5982 - val_loss: 0.5976 - val_accuracy: 0.6850\n",
      "Epoch 2/25\n",
      "250/250 [==============================] - 95s 382ms/step - loss: 0.5829 - accuracy: 0.6929 - val_loss: 0.5684 - val_accuracy: 0.7175\n",
      "Epoch 3/25\n",
      "250/250 [==============================] - 88s 353ms/step - loss: 0.5482 - accuracy: 0.7180 - val_loss: 0.5903 - val_accuracy: 0.7015\n",
      "Epoch 4/25\n",
      "250/250 [==============================] - 88s 351ms/step - loss: 0.5108 - accuracy: 0.7531 - val_loss: 0.5026 - val_accuracy: 0.7605\n",
      "Epoch 5/25\n",
      "250/250 [==============================] - 87s 347ms/step - loss: 0.4917 - accuracy: 0.7563 - val_loss: 0.4938 - val_accuracy: 0.7635\n",
      "Epoch 6/25\n",
      "250/250 [==============================] - 91s 365ms/step - loss: 0.4784 - accuracy: 0.7671 - val_loss: 0.4712 - val_accuracy: 0.7730\n",
      "Epoch 7/25\n",
      "250/250 [==============================] - 102s 407ms/step - loss: 0.4611 - accuracy: 0.7796 - val_loss: 0.4726 - val_accuracy: 0.7805\n",
      "Epoch 8/25\n",
      "250/250 [==============================] - 102s 409ms/step - loss: 0.4513 - accuracy: 0.7900 - val_loss: 0.4646 - val_accuracy: 0.7900\n",
      "Epoch 9/25\n",
      "250/250 [==============================] - 98s 392ms/step - loss: 0.4271 - accuracy: 0.8021 - val_loss: 0.4498 - val_accuracy: 0.7900\n",
      "Epoch 10/25\n",
      "250/250 [==============================] - 103s 411ms/step - loss: 0.4008 - accuracy: 0.8124 - val_loss: 0.4586 - val_accuracy: 0.7870\n",
      "Epoch 11/25\n",
      "250/250 [==============================] - 120s 478ms/step - loss: 0.4046 - accuracy: 0.8148 - val_loss: 0.4642 - val_accuracy: 0.7905\n",
      "Epoch 12/25\n",
      "250/250 [==============================] - 122s 488ms/step - loss: 0.3837 - accuracy: 0.8229 - val_loss: 0.4450 - val_accuracy: 0.8090\n",
      "Epoch 13/25\n",
      "250/250 [==============================] - 129s 515ms/step - loss: 0.3672 - accuracy: 0.8374 - val_loss: 0.4644 - val_accuracy: 0.8040\n",
      "Epoch 14/25\n",
      "250/250 [==============================] - 119s 478ms/step - loss: 0.3477 - accuracy: 0.8476 - val_loss: 0.4624 - val_accuracy: 0.8030\n",
      "Epoch 15/25\n",
      "250/250 [==============================] - 124s 496ms/step - loss: 0.3381 - accuracy: 0.8528 - val_loss: 0.4743 - val_accuracy: 0.7995\n",
      "Epoch 16/25\n",
      "250/250 [==============================] - 117s 468ms/step - loss: 0.3299 - accuracy: 0.8510 - val_loss: 0.5046 - val_accuracy: 0.7840\n",
      "Epoch 17/25\n",
      "250/250 [==============================] - 122s 488ms/step - loss: 0.3168 - accuracy: 0.8618 - val_loss: 0.4480 - val_accuracy: 0.8075\n",
      "Epoch 18/25\n",
      "250/250 [==============================] - 119s 475ms/step - loss: 0.2934 - accuracy: 0.8736 - val_loss: 0.4962 - val_accuracy: 0.7975\n",
      "Epoch 19/25\n",
      "250/250 [==============================] - 113s 451ms/step - loss: 0.2880 - accuracy: 0.8774 - val_loss: 0.5025 - val_accuracy: 0.7965\n",
      "Epoch 20/25\n",
      "250/250 [==============================] - 116s 463ms/step - loss: 0.2723 - accuracy: 0.8836 - val_loss: 0.5194 - val_accuracy: 0.8035\n",
      "Epoch 21/25\n",
      "250/250 [==============================] - 100s 400ms/step - loss: 0.2453 - accuracy: 0.8988 - val_loss: 0.5092 - val_accuracy: 0.8115\n",
      "Epoch 22/25\n",
      "250/250 [==============================] - 100s 401ms/step - loss: 0.2433 - accuracy: 0.8991 - val_loss: 0.4993 - val_accuracy: 0.8005\n",
      "Epoch 23/25\n",
      "250/250 [==============================] - 99s 394ms/step - loss: 0.2308 - accuracy: 0.9064 - val_loss: 0.5175 - val_accuracy: 0.8095\n",
      "Epoch 24/25\n",
      "250/250 [==============================] - 100s 399ms/step - loss: 0.2151 - accuracy: 0.9114 - val_loss: 0.5644 - val_accuracy: 0.8120\n",
      "Epoch 25/25\n",
      "250/250 [==============================] - 99s 397ms/step - loss: 0.2024 - accuracy: 0.9190 - val_loss: 0.5483 - val_accuracy: 0.8125\n"
     ]
    },
    {
     "data": {
      "text/plain": [
       "<tensorflow.python.keras.callbacks.History at 0x22825885668>"
      ]
     },
     "execution_count": 13,
     "metadata": {},
     "output_type": "execute_result"
    }
   ],
   "source": [
    "cnn.fit(x = training_set, validation_data = test_set, epochs = 25)"
   ]
  },
  {
   "cell_type": "markdown",
   "metadata": {
    "colab_type": "text",
    "id": "U3PZasO0006Z"
   },
   "source": [
    "## Part 4 - Making a single prediction"
   ]
  },
  {
   "cell_type": "code",
   "execution_count": 19,
   "metadata": {
    "colab": {},
    "colab_type": "code",
    "id": "gsSiWEJY1BPB"
   },
   "outputs": [
    {
     "name": "stdout",
     "output_type": "stream",
     "text": [
      "dog\n"
     ]
    }
   ],
   "source": [
    "import numpy as np\n",
    "from keras.preprocessing import image\n",
    "test_image = image.load_img('Desktop/Assignment/Deep Learning Course/CNN/dataset/single_prediction/cat_or_dog_4.jpg',target_size = (64,64))\n",
    "test_image = image.img_to_array(test_image)\n",
    "test_image = np.expand_dims(test_image, axis = 0)\n",
    "result = cnn.predict(test_image)\n",
    "training_set.class_indices\n",
    "if result[0][0] == 1:\n",
    "    prediction = 'dog'\n",
    "else:\n",
    "    prediction = 'cat'\n",
    "\n",
    "print(prediction)"
   ]
  },
  {
   "cell_type": "code",
   "execution_count": null,
   "metadata": {
    "colab": {},
    "colab_type": "code",
    "id": "ED9KB3I54c1i"
   },
   "outputs": [],
   "source": []
  },
  {
   "cell_type": "code",
   "execution_count": null,
   "metadata": {},
   "outputs": [],
   "source": []
  }
 ],
 "metadata": {
  "colab": {
   "authorship_tag": "ABX9TyON0YxX/oky4tPbqCLnFjWD",
   "collapsed_sections": [],
   "name": "convolutional_neural_network.ipynb",
   "provenance": [],
   "toc_visible": true
  },
  "kernelspec": {
   "display_name": "Python 3",
   "language": "python",
   "name": "python3"
  },
  "language_info": {
   "codemirror_mode": {
    "name": "ipython",
    "version": 3
   },
   "file_extension": ".py",
   "mimetype": "text/x-python",
   "name": "python",
   "nbconvert_exporter": "python",
   "pygments_lexer": "ipython3",
   "version": "3.7.3"
  }
 },
 "nbformat": 4,
 "nbformat_minor": 1
}
